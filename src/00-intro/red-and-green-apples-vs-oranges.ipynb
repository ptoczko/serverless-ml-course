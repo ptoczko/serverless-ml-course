{
 "cells": [
  {
   "cell_type": "code",
   "execution_count": 3,
   "id": "4948e813",
   "metadata": {},
   "outputs": [
    {
     "name": "stdout",
     "output_type": "stream",
     "text": [
      "[0 1 1 2]\n"
     ]
    }
   ],
   "source": [
    "import sklearn \n",
    "from sklearn.linear_model import LogisticRegression\n",
    "\n",
    "# [green_apple(0,120), green_apple(0,110), orange(250,150), orange(255, 163), red_apple(255,0), red_apple(240,0)]\n",
    "features = [[0,120], [75, 40], [60, 60], [255, 163], [255, 0], [240, 0]]\n",
    "\n",
    "# [green_apple, green_apple, orange, orange, red_apple, red_apple]\n",
    "labels = [0, 0, 1, 1, 2, 2]\n",
    "\n",
    "clf = LogisticRegression()\n",
    "clf = clf.fit(features, labels)\n",
    "\n",
    "# (66,66) is labelled as a green apple\n",
    "test_features = [[0,110], [66, 66], [249, 155], [245, 0]]\n",
    "test_labels = [0, 1, 0, 2] \n",
    "pred_labels = clf.predict(test_features)\n",
    "\n",
    "print(pred_labels)"
   ]
  },
  {
   "cell_type": "code",
   "execution_count": null,
   "id": "f3ad083c",
   "metadata": {},
   "outputs": [],
   "source": []
  }
 ],
 "metadata": {
  "kernelspec": {
   "display_name": "Python 3 (ipykernel)",
   "language": "python",
   "name": "python3"
  },
  "language_info": {
   "codemirror_mode": {
    "name": "ipython",
    "version": 3
   },
   "file_extension": ".py",
   "mimetype": "text/x-python",
   "name": "python",
   "nbconvert_exporter": "python",
   "pygments_lexer": "ipython3",
   "version": "3.9.7"
  }
 },
 "nbformat": 4,
 "nbformat_minor": 5
}
