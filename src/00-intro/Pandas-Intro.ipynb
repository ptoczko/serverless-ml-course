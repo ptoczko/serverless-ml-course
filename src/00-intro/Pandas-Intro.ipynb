{
 "cells": [
  {
   "cell_type": "markdown",
   "id": "f66fadac",
   "metadata": {},
   "source": [
    "## Pandas in 2 mins\n",
    "You can't learn Pandas in 2 mins, but here are some of the basics needed for this course.\n",
    "\n",
    "First, you can define a dict containing credit card payments, labeled as fraud or not-fraud, and create a Pandas DataFrame from it."
   ]
  },
  {
   "cell_type": "code",
   "execution_count": null,
   "id": "27b01f37",
   "metadata": {},
   "outputs": [],
   "source": [
    "import pandas as pd\n",
    "\n",
    "data = { \n",
    "    'credit_card_number': ['1111 2222 3333 4444', '1111 2222 3333 4444','1111 2222 3333 4444',\n",
    "                           '1111 2222 3333 4444'],\n",
    "    'trans_datetime': ['2022-01-01 08:44', '2022-01-01 19:44', '2022-01-01 20:44', '2022-01-01 20:55'],\n",
    "    'amount': [142.34, 12.34, 66.29, 112.33],\n",
    "    'location': ['Sao Paolo', 'Rio De Janeiro', 'Stockholm', 'Stockholm'],\n",
    "    'fraud': [False, False, True, True] \n",
    "}\n",
    "\n",
    "df = pd.DataFrame.from_dict(data)\n",
    "df['trans_datetime']= pd.to_datetime(df['trans_datetime'])\n",
    "df"
   ]
  },
  {
   "cell_type": "code",
   "execution_count": null,
   "id": "d0146eac",
   "metadata": {},
   "outputs": [],
   "source": [
    "df"
   ]
  },
  {
   "cell_type": "code",
   "execution_count": null,
   "id": "dd7889c9",
   "metadata": {},
   "outputs": [],
   "source": [
    "df.info()"
   ]
  },
  {
   "cell_type": "code",
   "execution_count": null,
   "id": "ecc3bb3b",
   "metadata": {},
   "outputs": [],
   "source": [
    "df['trans_datetime']= pd.to_datetime(df['trans_datetime'])\n",
    "df.info()"
   ]
  },
  {
   "cell_type": "markdown",
   "id": "280b5ebb",
   "metadata": {},
   "source": [
    "### Lambda functions\n",
    "\n",
    "We will now apply a lambda function to the column `amount` and save the result in a new column `is_big` in our DataFrame `df`."
   ]
  },
  {
   "cell_type": "code",
   "execution_count": null,
   "id": "73ba75de",
   "metadata": {
    "scrolled": true
   },
   "outputs": [],
   "source": [
    "df['is_big'] = df['amount'].apply(lambda amount: amount > 100)\n",
    "df"
   ]
  },
  {
   "cell_type": "markdown",
   "id": "f845b92e",
   "metadata": {},
   "source": [
    "### Apply and UDFs\n",
    "\n",
    "We will now apply a user-defined function (UDF), `is_small`, to each row in the data DataFrame `df`.  \n",
    "The result is a series that we store in a new column in `df` called 'is_small'."
   ]
  },
  {
   "cell_type": "code",
   "execution_count": null,
   "id": "36cf67ef",
   "metadata": {},
   "outputs": [],
   "source": [
    "def is_small(row):\n",
    "    return row['amount'] < 100\n",
    "    \n",
    "df['is_small'] = df.apply(is_small, axis=1)\n",
    "df"
   ]
  },
  {
   "cell_type": "markdown",
   "id": "c678d9ba",
   "metadata": {},
   "source": [
    "## Rolling Windows\n",
    "\n",
    "We will compute a rolling window over the day."
   ]
  },
  {
   "cell_type": "code",
   "execution_count": null,
   "id": "8bc7a844",
   "metadata": {},
   "outputs": [],
   "source": [
    "df_rolling = df.set_index('trans_datetime')\n",
    "df_rolling"
   ]
  },
  {
   "cell_type": "code",
   "execution_count": null,
   "id": "4b3b6d2d",
   "metadata": {},
   "outputs": [],
   "source": [
    "df_rolling['rolling_max_1d'] = df_rolling.rolling('1D').amount.max()\n",
    "df_rolling"
   ]
  },
  {
   "cell_type": "markdown",
   "id": "12d55895",
   "metadata": {},
   "source": [
    "Let's create a new DataFrame, `d2`, with new data."
   ]
  },
  {
   "cell_type": "code",
   "execution_count": null,
   "id": "f38554ad",
   "metadata": {},
   "outputs": [],
   "source": [
    "import numpy as np\n",
    "import timeit \n",
    "\n",
    "df2 = pd.DataFrame({\n",
    "    'a':np.random.randint(1,100, size=10000),\n",
    "    'b':np.random.randint(100,1000, size=10000),\n",
    "    'c':np.random.random(10000)\n",
    "})\n",
    "df2.shape\n",
    "(100000, 3)"
   ]
  },
  {
   "cell_type": "markdown",
   "id": "36e93895",
   "metadata": {},
   "source": [
    "### Vectorized operations are faster than \"apply\" with UDFs\n",
    "\n",
    "We will see that apply is approximately 50 times slower than the equivalent vectorized operation on 100k rows.\n",
    "\n"
   ]
  },
  {
   "cell_type": "code",
   "execution_count": null,
   "id": "b35aa5a2",
   "metadata": {},
   "outputs": [],
   "source": [
    "%%timeit\n",
    "df2['a'].apply(lambda x: x**2)"
   ]
  },
  {
   "cell_type": "markdown",
   "id": "622dc43c",
   "metadata": {},
   "source": [
    "This vectorized operation is much faster"
   ]
  },
  {
   "cell_type": "code",
   "execution_count": null,
   "id": "de746618",
   "metadata": {},
   "outputs": [],
   "source": [
    "%%timeit\n",
    "df2['a'] ** 2"
   ]
  },
  {
   "cell_type": "code",
   "execution_count": null,
   "id": "4aededa8",
   "metadata": {},
   "outputs": [],
   "source": [
    "df2.describe()"
   ]
  },
  {
   "cell_type": "code",
   "execution_count": null,
   "id": "c40d50fe",
   "metadata": {},
   "outputs": [],
   "source": [
    "df.trans_datetime.unique()"
   ]
  },
  {
   "cell_type": "code",
   "execution_count": null,
   "id": "361d75ee",
   "metadata": {},
   "outputs": [],
   "source": [
    "df.credit_card_number.nunique()"
   ]
  },
  {
   "cell_type": "code",
   "execution_count": null,
   "id": "8f7de134",
   "metadata": {},
   "outputs": [],
   "source": [
    "df.isnull().sum()"
   ]
  },
  {
   "cell_type": "markdown",
   "id": "b66d799c",
   "metadata": {},
   "source": [
    "## Transformations\n",
    "\n",
    "Plot a histogram with a long tail.\n",
    "Use numpy to seed the random number generator and generate a univariate data sample.\n"
   ]
  },
  {
   "cell_type": "code",
   "execution_count": null,
   "id": "32ebde28",
   "metadata": {},
   "outputs": [],
   "source": [
    "import seaborn as sns\n",
    "\n",
    "from numpy.random import seed\n",
    "from numpy.random import randn\n",
    "from numpy.random import rand\n",
    "from numpy import append\n",
    "seed(1)\n",
    "array = 5 * randn(100) + 10\n",
    "tail = 10 + (rand(50) * 100)\n",
    "array = append(array, tail)\n",
    "sns.histplot(array)"
   ]
  },
  {
   "cell_type": "code",
   "execution_count": null,
   "id": "262bf19c",
   "metadata": {},
   "outputs": [],
   "source": [
    "columns = ['amount']\n",
    "df_exp = pd.DataFrame(data = array, columns = columns)\n",
    "  \n",
    "df_exp.describe()"
   ]
  },
  {
   "cell_type": "code",
   "execution_count": null,
   "id": "bb560fa4",
   "metadata": {},
   "outputs": [],
   "source": [
    "df_exp"
   ]
  },
  {
   "cell_type": "markdown",
   "id": "31a8bac9",
   "metadata": {},
   "source": [
    "## Standard Scalar in Vectorized Pandas\n",
    "\n",
    "This is an efficient way to transform our input Pandas column into a range of [0.0, 1.]"
   ]
  },
  {
   "cell_type": "code",
   "execution_count": null,
   "id": "ae928d6c",
   "metadata": {},
   "outputs": [],
   "source": [
    "# Min-Max Normalization in Pandas\n",
    "df_norm = (df_exp-df_exp.min())/(df_exp.max()-df_exp.min())\n",
    "df_norm.head()"
   ]
  },
  {
   "cell_type": "code",
   "execution_count": null,
   "id": "bca3a9f9",
   "metadata": {},
   "outputs": [],
   "source": [
    "sns.histplot(df_norm)"
   ]
  },
  {
   "cell_type": "markdown",
   "id": "ff81e054",
   "metadata": {},
   "source": [
    "## Power Transformer in Scikit-Learn\n",
    "\n",
    "Scikit-Learn has many different transformation libraries.\n",
    "For heavy-tailed distributions, it is often recommended to perform a [power transformation](\n",
    "https://towardsdatascience.com/how-to-differentiate-between-scaling-normalization-and-log-transformations-69873d365a94)\n",
    "\n",
    "We can see in the histogram, this produces a more Gaussian (normal) distribution than the MinMax Scalar."
   ]
  },
  {
   "cell_type": "code",
   "execution_count": null,
   "id": "85f5e6d6",
   "metadata": {},
   "outputs": [],
   "source": [
    "from sklearn.preprocessing import PowerTransformer\n",
    "\n",
    "pt = PowerTransformer()\n",
    "\n",
    "df_power = pd.DataFrame(\n",
    "    pt.fit_transform(df_exp[[\"amount\"]]), columns=[\"amount\"]\n",
    ")\n",
    "\n",
    "sns.histplot(df_power)"
   ]
  },
  {
   "cell_type": "code",
   "execution_count": null,
   "id": "1ced0dce",
   "metadata": {},
   "outputs": [],
   "source": []
  }
 ],
 "metadata": {
  "kernelspec": {
   "display_name": "Python 3 (ipykernel)",
   "language": "python",
   "name": "python3"
  },
  "language_info": {
   "codemirror_mode": {
    "name": "ipython",
    "version": 3
   },
   "file_extension": ".py",
   "mimetype": "text/x-python",
   "name": "python",
   "nbconvert_exporter": "python",
   "pygments_lexer": "ipython3",
   "version": "3.9.7"
  }
 },
 "nbformat": 4,
 "nbformat_minor": 5
}
