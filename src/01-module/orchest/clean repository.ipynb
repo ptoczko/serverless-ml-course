{
 "cells": [
  {
   "cell_type": "markdown",
   "id": "f0db3065",
   "metadata": {},
   "source": [
    "### This notebooks will setup our Github Credentials, and make sure that remote and local repository are synced."
   ]
  },
  {
   "cell_type": "code",
   "execution_count": null,
   "id": "fef79a2b-3616-40f0-8b08-a4ce2381474c",
   "metadata": {},
   "outputs": [],
   "source": [
    "# get the environement variable for the token\n",
    "import os\n",
    "secret = os.environ['GIT_TOKEN']\n",
    "account = os.environ['ACCOUNT']\n",
    "repo_url = os.environ['REPO']"
   ]
  },
  {
   "cell_type": "code",
   "execution_count": null,
   "id": "f847dbb1-ce8f-4210-a3b8-1f23bbc604fb",
   "metadata": {},
   "outputs": [],
   "source": [
    "from datetime import datetime\n",
    "from git import Repo\n",
    "import git"
   ]
  },
  {
   "cell_type": "code",
   "execution_count": null,
   "id": "76887f5c-dffe-413c-8a3c-7af077a46747",
   "metadata": {},
   "outputs": [],
   "source": [
    "# Setup \n",
    "full_local_path = \"/project-dir/\"\n",
    "repo = git.Repo('/project-dir/')\n",
    "\n",
    "remote = f\"https://{secret}@github.com/{account}/{repo_url}.git\"\n",
    "repo = Repo(full_local_path)\n",
    "\n",
    "origin = repo.remote(name=\"origin\") \n",
    "if origin.url != remote:\n",
    "    origin.set_url(remote, origin.url)\n",
    "\n",
    "# uncomment if you need to pull\n",
    "# origin.pull()"
   ]
  },
  {
   "cell_type": "code",
   "execution_count": 14,
   "id": "e0bc7741-4b28-4c33-a261-20b97dec0267",
   "metadata": {},
   "outputs": [
    {
     "data": {
      "text/plain": [
       "\"Your branch is up to date with 'origin/gh-pages'.\""
      ]
     },
     "execution_count": 14,
     "metadata": {},
     "output_type": "execute_result"
    }
   ],
   "source": [
    "repo.git.checkout('gh-pages', force=True)\n",
    "\n",
    "# Going back to the main branch\n",
    "repo.git.checkout('main', force=True)\n",
    "\n",
    "# List remotes\n",
    "print('Remotes:')\n",
    "for remote in repo.remotes:\n",
    "    print(f'- {remote.name} {remote.url}')"
   ]
  }
 ],
 "metadata": {
  "kernelspec": {
   "display_name": "Python 3.10.6 64-bit",
   "language": "python",
   "name": "python3"
  },
  "language_info": {
   "codemirror_mode": {
    "name": "ipython",
    "version": 3
   },
   "file_extension": ".py",
   "mimetype": "text/x-python",
   "name": "python",
   "nbconvert_exporter": "python",
   "pygments_lexer": "ipython3",
   "version": "3.10.6"
  },
  "vscode": {
   "interpreter": {
    "hash": "b0fa6594d8f4cbf19f97940f81e996739fb7646882a419484c72d19e05852a7e"
   }
  }
 },
 "nbformat": 4,
 "nbformat_minor": 5
}
