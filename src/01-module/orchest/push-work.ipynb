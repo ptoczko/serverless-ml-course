{
 "cells": [
  {
   "cell_type": "code",
   "execution_count": null,
   "id": "dde7af30",
   "metadata": {},
   "outputs": [],
   "source": [
    "# get the environement variable for the token\n",
    "import os\n",
    "secret = os.environ['GIT_TOKEN']\n",
    "account = os.environ['ACCOUNT']\n",
    "repo_url = os.environ['REPO']"
   ]
  },
  {
   "cell_type": "code",
   "execution_count": null,
   "id": "e0bc7741-4b28-4c33-a261-20b97dec0267",
   "metadata": {},
   "outputs": [],
   "source": [
    "from datetime import datetime\n",
    "from git import Repo\n",
    "import git\n",
    "import shutil\n",
    "\n",
    "# Setup \n",
    "full_local_path = \"/project-dir/\"\n",
    "repo = git.Repo('/project-dir/')\n",
    "\n",
    "remote = f\"https://{secret}@github.com/{account}/{repo_url}.git\"\n",
    "repo = Repo(full_local_path)\n",
    "\n",
    "origin = repo.remote(name=\"origin\") \n",
    "if origin.url != remote:\n",
    "    origin.set_url(remote, origin.url)"
   ]
  },
  {
   "cell_type": "code",
   "execution_count": null,
   "id": "f2911067",
   "metadata": {},
   "outputs": [],
   "source": [
    "# move the files to the /data folder in orchest\n",
    "assets_folder = r\"../../../assets/\"\n",
    "env_folder = r\"/data/\"\n",
    "files_to_move = ['latest_iris.png', 'actual_iris.png', 'confusion_matrix.png','df_recent.png']\n",
    "\n",
    "for file in files_to_move:\n",
    "    # construct full file path\n",
    "    source = assets_folder + file\n",
    "    destination = env_folder + file\n",
    "     # move file\n",
    "    shutil.move(source, destination)\n",
    "\n",
    "# move to the branch for pages\n",
    "repo.git.checkout('gh-pages', force=True)\n",
    "\n",
    "#move back to an asset folder in the gh-pages branch \n",
    "for file in files_to_move:\n",
    "    # construct full file path\n",
    "    source = env_folder + file\n",
    "    destination = assets_folder + file\n",
    "     # move file\n",
    "    shutil.move(source, destination)\n",
    "\n",
    "# Add our file, and set our commit\n",
    "repo.git.add('assets/latest_iris.png', 'assets/actual_iris.png', 'assets/confusion_matrix.png', 'assets/df_recent.png')\n",
    "current = datetime.now()\n",
    "repo.index.commit(f'New prediction! time and date: {current}')\n",
    "\n",
    "# Push to the pages repository\n",
    "origin.push()\n",
    "\n",
    "# Going back to the main branch\n",
    "repo.git.checkout('main', force=True)"
   ]
  }
 ],
 "metadata": {
  "kernelspec": {
   "display_name": "Python 3.10.6 64-bit",
   "language": "python",
   "name": "python3"
  },
  "language_info": {
   "codemirror_mode": {
    "name": "ipython",
    "version": 3
   },
   "file_extension": ".py",
   "mimetype": "text/x-python",
   "name": "python",
   "nbconvert_exporter": "python",
   "pygments_lexer": "ipython3",
   "version": "3.10.6"
  },
  "vscode": {
   "interpreter": {
    "hash": "b0fa6594d8f4cbf19f97940f81e996739fb7646882a419484c72d19e05852a7e"
   }
  }
 },
 "nbformat": 4,
 "nbformat_minor": 5
}
